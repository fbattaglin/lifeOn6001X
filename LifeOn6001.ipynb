{
 "cells": [
  {
   "cell_type": "code",
   "execution_count": 1,
   "metadata": {},
   "outputs": [],
   "source": [
    "class LifeOn6001(object):\n",
    "    '''Little algoritm based on the life of a student taking\n",
    "    MIT 6.0.0.1X.  \n",
    "    name = string with first / last name or nickname\n",
    "    age= integer\n",
    "    coffeeIntake = integer with the average cups of coffee per day\n",
    "    hourSleep= integer with average daily hours of sleep'''\n",
    "    \n",
    "    def __init__(self, name, age, coffeeIntake, hourSleep):\n",
    "        self.name = name\n",
    "        self.age = age\n",
    "        self.coffeeIntake = coffeeIntake\n",
    "        self.hourSleep = hourSleep\n",
    "        self.grades = {'P1': 0,'P2': 0,'P3': 0,'P4': 0,\n",
    "                       'P5': 0, 'P6': 0, 'Mid':0, 'Final':0, 'SumFingEx':0}\n",
    "    \n",
    "    def getName(self):\n",
    "        return self.name + ' is a MIT 6.0.0.1X student.'\n",
    "    \n",
    "    def getAge(self):\n",
    "        return self.age\n",
    "    \n",
    "    def crazynessLevel(self):\n",
    "        '''returns level of sanity based on assigments taken'''\n",
    "        if self.coffeeIntake > 10 and self.hourSleep < 1:\n",
    "            return 'Status: '+ self.name + ' looks like a zombie on crack.'\n",
    "        elif self.coffeeIntake > 8:\n",
    "            return 'Status: '+ self.name + ' iiissss sshhakinng. Gotttta pput dddown the coffee'\n",
    "        elif self.hourSleep < 1:\n",
    "            return getHourSleep()\n",
    "        else:\n",
    "            return 'Status: '+ self.name + 'is a happy and functional student'\n",
    "    \n",
    "    def getCoffeeIntake(self):\n",
    "        return self.name + ' drinks '+ str(self.coffeeIntake) + ' cups of coffe a day.'\n",
    "    \n",
    "    def getHourSleep(self):\n",
    "        if self.hourSleep > 4:\n",
    "            return self.name + ' happily sleeps '+ str(self.hourSleep) + ' hours a day.'\n",
    "        elif self.hourSleep > 1:\n",
    "            return self.name + ' is super cranky because '+ \\\n",
    "            self.name + ' sleeps '+ str(self.hourSleep) + ' hours a day. '\n",
    "        else:\n",
    "            return 'No sleep at all. ' + self.name + ' has turned into a zombie.'\n",
    "    \n",
    "    def insertGrade(self, assign, grade ):\n",
    "        '''Insert grades to gradebook as you finish the assignments\n",
    "        grade = integer\n",
    "        assign = string Problem Set (P1,P2, p3...), Midterm (Mid), Final (Final)\n",
    "        or the sum of points of the finger exercises (SumFingEx)\n",
    "        '''\n",
    "        for a, g in self.grades.items():\n",
    "            if assign in a:\n",
    "                #assignments take away hours of sleep\n",
    "                self.hourSleep -= 1\n",
    "                #assigments increase coffee consumption\n",
    "                self.coffeeIntake += 1\n",
    "                if a == 'P4' or a == 'P5':\n",
    "                    self.hourSleep -= 1\n",
    "                    self.coffeeIntake += 1\n",
    "                if a == 'Mid' or a == 'Final':\n",
    "                    self.hourSleep -= 2\n",
    "                    self.coffeeIntake += 2\n",
    "                self.grades[a]= grade\n",
    "                return a + '= ' + str(grade)\n",
    "        return 'Assignment not found'\n",
    "    \n",
    "    def getGrade(self, assign):\n",
    "        ''' returns grades of an assignment.\n",
    "        assign = string containing code for assigment. '''\n",
    "        for a, g in self.grades.items():\n",
    "            if assign in a:\n",
    "                return a + ' = '+ str(g)\n",
    "        else:\n",
    "            return 'Assignment not found'\n",
    "    \n",
    "    def getCertificate(self):\n",
    "        total = []\n",
    "        for a, g in self.grades.items():\n",
    "            total.append(g)\n",
    "        if sum(total) > 452:\n",
    "            return 'A-wesome! '+ self.name + ' is a genius. Give him/ her a certificate and a job at Google'\n",
    "        elif sum(total) > 377:\n",
    "            return self.name + ' got a B and a shiny MITx certificate. Congratulations'\n",
    "        elif sum(total) > 326:\n",
    "            return self.name + ' barely made it with a C'\n",
    "        else:\n",
    "            return 'Failed! '+ self.name + ' should consider something easier like a Microsoft Office course'\n",
    "        \n",
    "    def gradeBook(self):\n",
    "        '''Prints the grades and its percentages'''\n",
    "        #Max points for each assignment\n",
    "        self.total = {'P1': 35,'P2': 45,'P3': 45,'P4': 85,\n",
    "                       'P5': 55, 'P6': 28, 'Mid':105, 'Final':95, 'SumFingEx':50}\n",
    "        #Print Gradebook\n",
    "        print( self.getCertificate() + '\\n')\n",
    "        for a, g in self.grades.items():\n",
    "            print (a + '= ' + str(g) + ' / ' + str(self.total[a]) \\\n",
    "                   + ' / ' + str(int((g / self.total[a])*100)) + '%')\n",
    "    \n",
    "    def getSleep(self, hours):\n",
    "        ''' Getting some sleep improves/ increases daily average, therefore improving the crazyness level\n",
    "        hours = integer of hours of sleep'''\n",
    "        self.hourSleep += hours\n",
    "        return self.name + ' have a daily average of ' + str(self.hourSleep) +' hours of sleep. ' + self.getHourSleep() \n",
    "                   \n",
    "    def __str__(self):\n",
    "        return self.name + ', ' + str(self.age) + ' years old ' \\\n",
    "        ', drinks '+ str(self.coffeeIntake) + \\\n",
    "        ' cups of coffee daily.  '+ self.getHourSleep()"
   ]
  },
  {
   "cell_type": "code",
   "execution_count": 2,
   "metadata": {},
   "outputs": [
    {
     "name": "stdout",
     "output_type": "stream",
     "text": [
      "Fabiano Battaglin, 36 years old , drinks 2 cups of coffee daily.  Fabiano Battaglin happily sleeps 8 hours a day.\n"
     ]
    }
   ],
   "source": [
    "fabiano = LifeOn6001('Fabiano Battaglin', 36, 2, 8)\n",
    "print(fabiano)"
   ]
  },
  {
   "cell_type": "code",
   "execution_count": 3,
   "metadata": {},
   "outputs": [
    {
     "data": {
      "text/plain": [
       "'Status: Fabiano Battaglin looks like a zombie on crack.'"
      ]
     },
     "execution_count": 3,
     "metadata": {},
     "output_type": "execute_result"
    }
   ],
   "source": [
    "fabiano.insertGrade('P1', 30)\n",
    "fabiano.insertGrade('P2', 45)\n",
    "fabiano.insertGrade('P3',40)\n",
    "fabiano.insertGrade('P4', 82)\n",
    "fabiano.insertGrade('P5', 80)\n",
    "fabiano.insertGrade('P6', 28)\n",
    "fabiano.insertGrade('Mid', 100)\n",
    "fabiano.insertGrade('Final', 100)\n",
    "fabiano.crazynessLevel()"
   ]
  },
  {
   "cell_type": "code",
   "execution_count": 4,
   "metadata": {},
   "outputs": [
    {
     "name": "stdout",
     "output_type": "stream",
     "text": [
      "A-wesome! Fabiano Battaglin is a genius. Give him/ her a certificate and a job at Google\n",
      "\n",
      "P1= 30 / 35 / 85%\n",
      "P2= 45 / 45 / 100%\n",
      "P3= 40 / 45 / 88%\n",
      "P4= 82 / 85 / 96%\n",
      "P5= 80 / 55 / 145%\n",
      "P6= 28 / 28 / 100%\n",
      "Mid= 100 / 105 / 95%\n",
      "Final= 100 / 95 / 105%\n",
      "SumFingEx= 0 / 50 / 0%\n"
     ]
    }
   ],
   "source": [
    "fabiano.gradeBook()"
   ]
  },
  {
   "cell_type": "code",
   "execution_count": 10,
   "metadata": {},
   "outputs": [
    {
     "data": {
      "text/plain": [
       "'Fabiano Battaglin have a daily average of 18 hours of sleep. Fabiano Battaglin happily sleeps 18 hours a day.'"
      ]
     },
     "execution_count": 10,
     "metadata": {},
     "output_type": "execute_result"
    }
   ],
   "source": [
    "fabiano.getSleep(8)"
   ]
  },
  {
   "cell_type": "code",
   "execution_count": 11,
   "metadata": {},
   "outputs": [
    {
     "data": {
      "text/plain": [
       "'Status: Fabiano Battaglin iiissss sshhakinng. Gotttta pput dddown the coffee'"
      ]
     },
     "execution_count": 11,
     "metadata": {},
     "output_type": "execute_result"
    }
   ],
   "source": [
    "fabiano.crazynessLevel()"
   ]
  },
  {
   "cell_type": "code",
   "execution_count": 12,
   "metadata": {},
   "outputs": [
    {
     "data": {
      "text/plain": [
       "'Fabiano Battaglin is a MIT 6.0.0.1X student.'"
      ]
     },
     "execution_count": 12,
     "metadata": {},
     "output_type": "execute_result"
    }
   ],
   "source": [
    "fabiano.getName()"
   ]
  },
  {
   "cell_type": "code",
   "execution_count": null,
   "metadata": {},
   "outputs": [],
   "source": []
  }
 ],
 "metadata": {
  "kernelspec": {
   "display_name": "Python 3",
   "language": "python",
   "name": "python3"
  },
  "language_info": {
   "codemirror_mode": {
    "name": "ipython",
    "version": 3
   },
   "file_extension": ".py",
   "mimetype": "text/x-python",
   "name": "python",
   "nbconvert_exporter": "python",
   "pygments_lexer": "ipython3",
   "version": "3.6.4"
  }
 },
 "nbformat": 4,
 "nbformat_minor": 2
}
